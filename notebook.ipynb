{
 "cells": [
  {
   "cell_type": "markdown",
   "metadata": {},
   "source": [
    "### Import Packages"
   ]
  },
  {
   "cell_type": "code",
   "execution_count": 24,
   "metadata": {},
   "outputs": [],
   "source": [
    "# import the necessary libraries\n",
    "\n",
    "import pandas as pd\n",
    "import numpy as np\n",
    "import seaborn as sns\n",
    "import matplotlib.pyplot as plt\n",
    "from sklearn.metrics import accuracy_score,precision_score, recall_score, f1_score, confusion_matrix, ConfusionMatrixDisplay\n",
    "from sklearn.model_selection import train_test_split\n",
    "from sklearn.preprocessing import StandardScaler, MinMaxScaler\n",
    "from sklearn.linear_model import LogisticRegression\n",
    "from sklearn.tree import DecisionTreeClassifier\n",
    "#from tqdm import tqdm\n",
    "from ast import literal_eval\n",
    "import warnings\n",
    "warnings.filterwarnings('ignore')"
   ]
  },
  {
   "cell_type": "markdown",
   "metadata": {},
   "source": [
    "### Data Collection"
   ]
  },
  {
   "cell_type": "code",
   "execution_count": 25,
   "metadata": {},
   "outputs": [],
   "source": [
    "# load the dataset\n",
    "df = pd.read_excel('Dataset.xlsx')"
   ]
  },
  {
   "cell_type": "markdown",
   "metadata": {},
   "source": [
    "### Exploratory Data Analysis"
   ]
  },
  {
   "cell_type": "code",
   "execution_count": 26,
   "metadata": {},
   "outputs": [
    {
     "data": {
      "text/html": [
       "<div>\n",
       "<style scoped>\n",
       "    .dataframe tbody tr th:only-of-type {\n",
       "        vertical-align: middle;\n",
       "    }\n",
       "\n",
       "    .dataframe tbody tr th {\n",
       "        vertical-align: top;\n",
       "    }\n",
       "\n",
       "    .dataframe thead th {\n",
       "        text-align: right;\n",
       "    }\n",
       "</style>\n",
       "<table border=\"1\" class=\"dataframe\">\n",
       "  <thead>\n",
       "    <tr style=\"text-align: right;\">\n",
       "      <th></th>\n",
       "      <th>CustomerID</th>\n",
       "      <th>Name</th>\n",
       "      <th>Age</th>\n",
       "      <th>Gender</th>\n",
       "      <th>Location</th>\n",
       "      <th>Email</th>\n",
       "      <th>Phone</th>\n",
       "      <th>Address</th>\n",
       "      <th>Segment</th>\n",
       "      <th>PurchaseHistory</th>\n",
       "      <th>...</th>\n",
       "      <th>ServiceInteractions</th>\n",
       "      <th>PaymentHistory</th>\n",
       "      <th>WebsiteUsage</th>\n",
       "      <th>ClickstreamData</th>\n",
       "      <th>EngagementMetrics</th>\n",
       "      <th>Feedback</th>\n",
       "      <th>MarketingCommunication</th>\n",
       "      <th>NPS</th>\n",
       "      <th>ChurnLabel</th>\n",
       "      <th>Timestamp</th>\n",
       "    </tr>\n",
       "  </thead>\n",
       "  <tbody>\n",
       "    <tr>\n",
       "      <th>0</th>\n",
       "      <td>1001</td>\n",
       "      <td>Mark Barrett</td>\n",
       "      <td>31</td>\n",
       "      <td>Male</td>\n",
       "      <td>Andrewfort</td>\n",
       "      <td>allison74@example.net</td>\n",
       "      <td>3192528777</td>\n",
       "      <td>61234 Shelley Heights Suite 467\\nCohentown, GU...</td>\n",
       "      <td>Segment B</td>\n",
       "      <td>[{'Product': 'Frozen Cocktail Mixes', 'Frequen...</td>\n",
       "      <td>...</td>\n",
       "      <td>[{'Type': 'Call', 'Date': '2019-09-26'}, {'Typ...</td>\n",
       "      <td>[{'Method': 'Credit Card', 'Late_Payments': 5}...</td>\n",
       "      <td>{'PageViews': 49, 'TimeSpent(minutes)': 15}</td>\n",
       "      <td>[{'Action': 'Add to Cart', 'Page': 'register',...</td>\n",
       "      <td>{'Logins': 19, 'Frequency': 'Weekly'}</td>\n",
       "      <td>{'Rating': 1, 'Comment': 'I move baby go small...</td>\n",
       "      <td>[{'Email_Sent': '2019-10-17', 'Email_Opened': ...</td>\n",
       "      <td>3</td>\n",
       "      <td>1</td>\n",
       "      <td>2020-01-27 01:36:49</td>\n",
       "    </tr>\n",
       "    <tr>\n",
       "      <th>1</th>\n",
       "      <td>1002</td>\n",
       "      <td>Jeremy Welch</td>\n",
       "      <td>66</td>\n",
       "      <td>Female</td>\n",
       "      <td>Millerhaven</td>\n",
       "      <td>fmiller@example.com</td>\n",
       "      <td>231-587-1818x8651</td>\n",
       "      <td>4959 Jennifer Junction\\nNew Angelaport, TN 87397</td>\n",
       "      <td>Segment C</td>\n",
       "      <td>[{'Product': 'Watercraft Polishes', 'Frequency...</td>\n",
       "      <td>...</td>\n",
       "      <td>[{'Type': 'Call', 'Date': '2020-01-05'}, {'Typ...</td>\n",
       "      <td>[{'Method': 'Credit Card', 'Late_Payments': 3}...</td>\n",
       "      <td>{'PageViews': 100, 'TimeSpent(minutes)': 9}</td>\n",
       "      <td>[{'Action': 'Add to Cart', 'Page': 'homepage',...</td>\n",
       "      <td>{'Logins': 9, 'Frequency': 'Weekly'}</td>\n",
       "      <td>{'Rating': 2, 'Comment': 'Wish what bag cut li...</td>\n",
       "      <td>[{'Email_Sent': '2021-08-02', 'Email_Opened': ...</td>\n",
       "      <td>6</td>\n",
       "      <td>0</td>\n",
       "      <td>2019-01-06 18:30:03</td>\n",
       "    </tr>\n",
       "    <tr>\n",
       "      <th>2</th>\n",
       "      <td>1003</td>\n",
       "      <td>Brandon Patel</td>\n",
       "      <td>36</td>\n",
       "      <td>Female</td>\n",
       "      <td>Lozanostad</td>\n",
       "      <td>jasonbrown@example.org</td>\n",
       "      <td>(270)633-9095</td>\n",
       "      <td>38701 Amanda Brook Apt. 076\\nKimshire, NJ 62516</td>\n",
       "      <td>Segment B</td>\n",
       "      <td>[{'Product': 'Vehicle Waxes, Polishes &amp; Protec...</td>\n",
       "      <td>...</td>\n",
       "      <td>[{'Type': 'Email', 'Date': '2019-10-09'}, {'Ty...</td>\n",
       "      <td>[{'Method': 'Credit Card', 'Late_Payments': 1}...</td>\n",
       "      <td>{'PageViews': 1, 'TimeSpent(minutes)': 97}</td>\n",
       "      <td>[{'Action': 'Search', 'Page': 'terms', 'Timest...</td>\n",
       "      <td>{'Logins': 19, 'Frequency': 'Monthly'}</td>\n",
       "      <td>{'Rating': 4, 'Comment': 'Some Democrat guess ...</td>\n",
       "      <td>[{'Email_Sent': '2021-08-29', 'Email_Opened': ...</td>\n",
       "      <td>3</td>\n",
       "      <td>0</td>\n",
       "      <td>2019-04-30 04:25:10</td>\n",
       "    </tr>\n",
       "    <tr>\n",
       "      <th>3</th>\n",
       "      <td>1004</td>\n",
       "      <td>Tina Martin</td>\n",
       "      <td>62</td>\n",
       "      <td>Female</td>\n",
       "      <td>South Dustin</td>\n",
       "      <td>matthew62@example.net</td>\n",
       "      <td>050.081.8706x11982</td>\n",
       "      <td>67324 Ashley Coves\\nSouth John, RI 29650</td>\n",
       "      <td>Segment C</td>\n",
       "      <td>[{'Product': 'Mouthwash', 'Frequency': 5, 'Val...</td>\n",
       "      <td>...</td>\n",
       "      <td>[{'Type': 'Call', 'Date': '2020-08-28'}, {'Typ...</td>\n",
       "      <td>[{'Method': 'Credit Card', 'Late_Payments': 36...</td>\n",
       "      <td>{'PageViews': 25, 'TimeSpent(minutes)': 31}</td>\n",
       "      <td>[{'Action': 'Click', 'Page': 'privacy', 'Times...</td>\n",
       "      <td>{'Logins': 4, 'Frequency': 'Daily'}</td>\n",
       "      <td>{'Rating': 1, 'Comment': 'Yard feel never miss...</td>\n",
       "      <td>[{'Email_Sent': '2021-02-03', 'Email_Opened': ...</td>\n",
       "      <td>1</td>\n",
       "      <td>1</td>\n",
       "      <td>2020-03-03 17:33:28</td>\n",
       "    </tr>\n",
       "    <tr>\n",
       "      <th>4</th>\n",
       "      <td>1005</td>\n",
       "      <td>Christopher Rodriguez</td>\n",
       "      <td>68</td>\n",
       "      <td>Female</td>\n",
       "      <td>West James</td>\n",
       "      <td>shannonstrickland@example.org</td>\n",
       "      <td>+1-701-854-4915x724</td>\n",
       "      <td>01169 Miller Mission\\nWest Anthonyburgh, WY 47359</td>\n",
       "      <td>Segment C</td>\n",
       "      <td>[{'Product': 'Ice Cream Novelties', 'Frequency...</td>\n",
       "      <td>...</td>\n",
       "      <td>[{'Type': 'Call', 'Date': '2019-04-10'}, {'Typ...</td>\n",
       "      <td>[{'Method': 'Credit Card', 'Late_Payments': 0}...</td>\n",
       "      <td>{'PageViews': 77, 'TimeSpent(minutes)': 51}</td>\n",
       "      <td>[{'Action': 'Click', 'Page': 'privacy', 'Times...</td>\n",
       "      <td>{'Logins': 12, 'Frequency': 'Weekly'}</td>\n",
       "      <td>{'Rating': 3, 'Comment': 'Ten determine unit i...</td>\n",
       "      <td>[{'Email_Sent': '2022-03-11', 'Email_Opened': ...</td>\n",
       "      <td>3</td>\n",
       "      <td>0</td>\n",
       "      <td>2019-04-05 22:42:22</td>\n",
       "    </tr>\n",
       "  </tbody>\n",
       "</table>\n",
       "<p>5 rows × 21 columns</p>\n",
       "</div>"
      ],
      "text/plain": [
       "   CustomerID                   Name  Age  Gender      Location  \\\n",
       "0        1001           Mark Barrett   31    Male    Andrewfort   \n",
       "1        1002           Jeremy Welch   66  Female   Millerhaven   \n",
       "2        1003          Brandon Patel   36  Female    Lozanostad   \n",
       "3        1004            Tina Martin   62  Female  South Dustin   \n",
       "4        1005  Christopher Rodriguez   68  Female    West James   \n",
       "\n",
       "                           Email                Phone  \\\n",
       "0          allison74@example.net           3192528777   \n",
       "1            fmiller@example.com    231-587-1818x8651   \n",
       "2         jasonbrown@example.org        (270)633-9095   \n",
       "3          matthew62@example.net   050.081.8706x11982   \n",
       "4  shannonstrickland@example.org  +1-701-854-4915x724   \n",
       "\n",
       "                                             Address    Segment  \\\n",
       "0  61234 Shelley Heights Suite 467\\nCohentown, GU...  Segment B   \n",
       "1   4959 Jennifer Junction\\nNew Angelaport, TN 87397  Segment C   \n",
       "2    38701 Amanda Brook Apt. 076\\nKimshire, NJ 62516  Segment B   \n",
       "3           67324 Ashley Coves\\nSouth John, RI 29650  Segment C   \n",
       "4  01169 Miller Mission\\nWest Anthonyburgh, WY 47359  Segment C   \n",
       "\n",
       "                                     PurchaseHistory  ...  \\\n",
       "0  [{'Product': 'Frozen Cocktail Mixes', 'Frequen...  ...   \n",
       "1  [{'Product': 'Watercraft Polishes', 'Frequency...  ...   \n",
       "2  [{'Product': 'Vehicle Waxes, Polishes & Protec...  ...   \n",
       "3  [{'Product': 'Mouthwash', 'Frequency': 5, 'Val...  ...   \n",
       "4  [{'Product': 'Ice Cream Novelties', 'Frequency...  ...   \n",
       "\n",
       "                                 ServiceInteractions  \\\n",
       "0  [{'Type': 'Call', 'Date': '2019-09-26'}, {'Typ...   \n",
       "1  [{'Type': 'Call', 'Date': '2020-01-05'}, {'Typ...   \n",
       "2  [{'Type': 'Email', 'Date': '2019-10-09'}, {'Ty...   \n",
       "3  [{'Type': 'Call', 'Date': '2020-08-28'}, {'Typ...   \n",
       "4  [{'Type': 'Call', 'Date': '2019-04-10'}, {'Typ...   \n",
       "\n",
       "                                      PaymentHistory  \\\n",
       "0  [{'Method': 'Credit Card', 'Late_Payments': 5}...   \n",
       "1  [{'Method': 'Credit Card', 'Late_Payments': 3}...   \n",
       "2  [{'Method': 'Credit Card', 'Late_Payments': 1}...   \n",
       "3  [{'Method': 'Credit Card', 'Late_Payments': 36...   \n",
       "4  [{'Method': 'Credit Card', 'Late_Payments': 0}...   \n",
       "\n",
       "                                  WebsiteUsage  \\\n",
       "0  {'PageViews': 49, 'TimeSpent(minutes)': 15}   \n",
       "1  {'PageViews': 100, 'TimeSpent(minutes)': 9}   \n",
       "2   {'PageViews': 1, 'TimeSpent(minutes)': 97}   \n",
       "3  {'PageViews': 25, 'TimeSpent(minutes)': 31}   \n",
       "4  {'PageViews': 77, 'TimeSpent(minutes)': 51}   \n",
       "\n",
       "                                     ClickstreamData  \\\n",
       "0  [{'Action': 'Add to Cart', 'Page': 'register',...   \n",
       "1  [{'Action': 'Add to Cart', 'Page': 'homepage',...   \n",
       "2  [{'Action': 'Search', 'Page': 'terms', 'Timest...   \n",
       "3  [{'Action': 'Click', 'Page': 'privacy', 'Times...   \n",
       "4  [{'Action': 'Click', 'Page': 'privacy', 'Times...   \n",
       "\n",
       "                        EngagementMetrics  \\\n",
       "0   {'Logins': 19, 'Frequency': 'Weekly'}   \n",
       "1    {'Logins': 9, 'Frequency': 'Weekly'}   \n",
       "2  {'Logins': 19, 'Frequency': 'Monthly'}   \n",
       "3     {'Logins': 4, 'Frequency': 'Daily'}   \n",
       "4   {'Logins': 12, 'Frequency': 'Weekly'}   \n",
       "\n",
       "                                            Feedback  \\\n",
       "0  {'Rating': 1, 'Comment': 'I move baby go small...   \n",
       "1  {'Rating': 2, 'Comment': 'Wish what bag cut li...   \n",
       "2  {'Rating': 4, 'Comment': 'Some Democrat guess ...   \n",
       "3  {'Rating': 1, 'Comment': 'Yard feel never miss...   \n",
       "4  {'Rating': 3, 'Comment': 'Ten determine unit i...   \n",
       "\n",
       "                              MarketingCommunication NPS  ChurnLabel  \\\n",
       "0  [{'Email_Sent': '2019-10-17', 'Email_Opened': ...   3           1   \n",
       "1  [{'Email_Sent': '2021-08-02', 'Email_Opened': ...   6           0   \n",
       "2  [{'Email_Sent': '2021-08-29', 'Email_Opened': ...   3           0   \n",
       "3  [{'Email_Sent': '2021-02-03', 'Email_Opened': ...   1           1   \n",
       "4  [{'Email_Sent': '2022-03-11', 'Email_Opened': ...   3           0   \n",
       "\n",
       "             Timestamp  \n",
       "0  2020-01-27 01:36:49  \n",
       "1  2019-01-06 18:30:03  \n",
       "2  2019-04-30 04:25:10  \n",
       "3  2020-03-03 17:33:28  \n",
       "4  2019-04-05 22:42:22  \n",
       "\n",
       "[5 rows x 21 columns]"
      ]
     },
     "execution_count": 26,
     "metadata": {},
     "output_type": "execute_result"
    }
   ],
   "source": [
    "# preview data\n",
    "df.head(5)"
   ]
  },
  {
   "cell_type": "code",
   "execution_count": 27,
   "metadata": {},
   "outputs": [
    {
     "data": {
      "text/plain": [
       "CustomerID                0\n",
       "Name                      0\n",
       "Age                       0\n",
       "Gender                    0\n",
       "Location                  0\n",
       "Email                     0\n",
       "Phone                     0\n",
       "Address                   0\n",
       "Segment                   0\n",
       "PurchaseHistory           0\n",
       "SubscriptionDetails       0\n",
       "ServiceInteractions       0\n",
       "PaymentHistory            0\n",
       "WebsiteUsage              0\n",
       "ClickstreamData           0\n",
       "EngagementMetrics         0\n",
       "Feedback                  0\n",
       "MarketingCommunication    0\n",
       "NPS                       0\n",
       "ChurnLabel                0\n",
       "Timestamp                 0\n",
       "dtype: int64"
      ]
     },
     "execution_count": 27,
     "metadata": {},
     "output_type": "execute_result"
    }
   ],
   "source": [
    "# check for null values\n",
    "df.isnull().sum()"
   ]
  },
  {
   "cell_type": "code",
   "execution_count": 28,
   "metadata": {},
   "outputs": [
    {
     "name": "stdout",
     "output_type": "stream",
     "text": [
      "This dataset has 0 duplicates\n"
     ]
    }
   ],
   "source": [
    "# check for duplicates\n",
    "dup = df.duplicated().sum()\n",
    "print(f'This dataset has',dup,'duplicates')"
   ]
  },
  {
   "cell_type": "code",
   "execution_count": 29,
   "metadata": {},
   "outputs": [
    {
     "data": {
      "text/plain": [
       "(12483, 21)"
      ]
     },
     "execution_count": 29,
     "metadata": {},
     "output_type": "execute_result"
    }
   ],
   "source": [
    "df.shape"
   ]
  },
  {
   "cell_type": "code",
   "execution_count": 30,
   "metadata": {},
   "outputs": [
    {
     "name": "stdout",
     "output_type": "stream",
     "text": [
      "<class 'pandas.core.frame.DataFrame'>\n",
      "RangeIndex: 12483 entries, 0 to 12482\n",
      "Data columns (total 21 columns):\n",
      " #   Column                  Non-Null Count  Dtype \n",
      "---  ------                  --------------  ----- \n",
      " 0   CustomerID              12483 non-null  int64 \n",
      " 1   Name                    12483 non-null  object\n",
      " 2   Age                     12483 non-null  int64 \n",
      " 3   Gender                  12483 non-null  object\n",
      " 4   Location                12483 non-null  object\n",
      " 5   Email                   12483 non-null  object\n",
      " 6   Phone                   12483 non-null  object\n",
      " 7   Address                 12483 non-null  object\n",
      " 8   Segment                 12483 non-null  object\n",
      " 9   PurchaseHistory         12483 non-null  object\n",
      " 10  SubscriptionDetails     12483 non-null  object\n",
      " 11  ServiceInteractions     12483 non-null  object\n",
      " 12  PaymentHistory          12483 non-null  object\n",
      " 13  WebsiteUsage            12483 non-null  object\n",
      " 14  ClickstreamData         12483 non-null  object\n",
      " 15  EngagementMetrics       12483 non-null  object\n",
      " 16  Feedback                12483 non-null  object\n",
      " 17  MarketingCommunication  12483 non-null  object\n",
      " 18  NPS                     12483 non-null  int64 \n",
      " 19  ChurnLabel              12483 non-null  int64 \n",
      " 20  Timestamp               12483 non-null  object\n",
      "dtypes: int64(4), object(17)\n",
      "memory usage: 2.0+ MB\n"
     ]
    }
   ],
   "source": [
    "df.info()"
   ]
  },
  {
   "cell_type": "code",
   "execution_count": 31,
   "metadata": {},
   "outputs": [
    {
     "data": {
      "text/html": [
       "<div>\n",
       "<style scoped>\n",
       "    .dataframe tbody tr th:only-of-type {\n",
       "        vertical-align: middle;\n",
       "    }\n",
       "\n",
       "    .dataframe tbody tr th {\n",
       "        vertical-align: top;\n",
       "    }\n",
       "\n",
       "    .dataframe thead th {\n",
       "        text-align: right;\n",
       "    }\n",
       "</style>\n",
       "<table border=\"1\" class=\"dataframe\">\n",
       "  <thead>\n",
       "    <tr style=\"text-align: right;\">\n",
       "      <th></th>\n",
       "      <th>CustomerID</th>\n",
       "      <th>Age</th>\n",
       "      <th>NPS</th>\n",
       "      <th>ChurnLabel</th>\n",
       "    </tr>\n",
       "  </thead>\n",
       "  <tbody>\n",
       "    <tr>\n",
       "      <th>count</th>\n",
       "      <td>12483.00000</td>\n",
       "      <td>12483.000000</td>\n",
       "      <td>12483.000000</td>\n",
       "      <td>12483.000000</td>\n",
       "    </tr>\n",
       "    <tr>\n",
       "      <th>mean</th>\n",
       "      <td>7242.00000</td>\n",
       "      <td>43.930065</td>\n",
       "      <td>2.973884</td>\n",
       "      <td>0.505808</td>\n",
       "    </tr>\n",
       "    <tr>\n",
       "      <th>std</th>\n",
       "      <td>3603.67604</td>\n",
       "      <td>15.341521</td>\n",
       "      <td>2.644623</td>\n",
       "      <td>0.499986</td>\n",
       "    </tr>\n",
       "    <tr>\n",
       "      <th>min</th>\n",
       "      <td>1001.00000</td>\n",
       "      <td>18.000000</td>\n",
       "      <td>0.000000</td>\n",
       "      <td>0.000000</td>\n",
       "    </tr>\n",
       "    <tr>\n",
       "      <th>25%</th>\n",
       "      <td>4121.50000</td>\n",
       "      <td>31.000000</td>\n",
       "      <td>1.000000</td>\n",
       "      <td>0.000000</td>\n",
       "    </tr>\n",
       "    <tr>\n",
       "      <th>50%</th>\n",
       "      <td>7242.00000</td>\n",
       "      <td>44.000000</td>\n",
       "      <td>2.000000</td>\n",
       "      <td>1.000000</td>\n",
       "    </tr>\n",
       "    <tr>\n",
       "      <th>75%</th>\n",
       "      <td>10362.50000</td>\n",
       "      <td>57.000000</td>\n",
       "      <td>4.000000</td>\n",
       "      <td>1.000000</td>\n",
       "    </tr>\n",
       "    <tr>\n",
       "      <th>max</th>\n",
       "      <td>13483.00000</td>\n",
       "      <td>70.000000</td>\n",
       "      <td>9.000000</td>\n",
       "      <td>1.000000</td>\n",
       "    </tr>\n",
       "  </tbody>\n",
       "</table>\n",
       "</div>"
      ],
      "text/plain": [
       "        CustomerID           Age           NPS    ChurnLabel\n",
       "count  12483.00000  12483.000000  12483.000000  12483.000000\n",
       "mean    7242.00000     43.930065      2.973884      0.505808\n",
       "std     3603.67604     15.341521      2.644623      0.499986\n",
       "min     1001.00000     18.000000      0.000000      0.000000\n",
       "25%     4121.50000     31.000000      1.000000      0.000000\n",
       "50%     7242.00000     44.000000      2.000000      1.000000\n",
       "75%    10362.50000     57.000000      4.000000      1.000000\n",
       "max    13483.00000     70.000000      9.000000      1.000000"
      ]
     },
     "execution_count": 31,
     "metadata": {},
     "output_type": "execute_result"
    }
   ],
   "source": [
    "# check statistical overview of colums\n",
    "stats = df.describe()\n",
    "\n",
    "stats"
   ]
  },
  {
   "cell_type": "markdown",
   "metadata": {},
   "source": [
    "# Univariate Analysis"
   ]
  },
  {
   "cell_type": "code",
   "execution_count": 32,
   "metadata": {},
   "outputs": [
    {
     "data": {
      "image/png": "[encoded data removed]",
      "text/plain": [
       "<Figure size 1500x1000 with 4 Axes>"
      ]
     },
     "metadata": {},
     "output_type": "display_data"
    }
   ],
   "source": [
    "fig,ax =plt.subplots(2,2, figsize=(15,10))\n",
    "    \n",
    "# Plot Churnlabel Distribution\n",
    "sns.countplot(data=df, x='ChurnLabel', ax=ax[0,0])\n",
    "ax[0,0].set_title('Distribution of Churn')\n",
    "ax[0,0].set_xticklabels(['No Churn', 'Churn'])\n",
    "\n",
    "# Plot the Distribution of Gender\n",
    "sns.countplot(data=df, x='Gender', ax=ax[0,1])\n",
    "ax[0,1].set_title('Distribution of Gender')\n",
    "ax[0,1].set_xticklabels(['Female','Male'])\n",
    "\n",
    "# Plot Segment Distribution\n",
    "sns.countplot(data=df , x='Segment', ax=ax[1,0])\n",
    "ax[1,0].set_title('Segment Distribution')\n",
    "# ax[1,0].set_xticklabels([])\n",
    "\n",
    "# Plot segment distribution\n",
    "sns.histplot(df['Age'], bins=30,ax=ax[1,1], kde=True)\n",
    "ax[1,1].set_title('Age Distribution')\n",
    "\n",
    "plt.tight_layout()\n",
    "plt.show()\n",
    "    "
   ]
  },
  {
   "cell_type": "code",
   "execution_count": 33,
   "metadata": {},
   "outputs": [
    {
     "data": {
      "text/plain": [
       "<function matplotlib.pyplot.show(close=None, block=None)>"
      ]
     },
     "execution_count": 33,
     "metadata": {},
     "output_type": "execute_result"
    },
    {
     "data": {
      "image/png": "[encoded data removed]",
      "text/plain": [
       "<Figure size 1000x600 with 1 Axes>"
      ]
     },
     "metadata": {},
     "output_type": "display_data"
    }
   ],
   "source": [
    "# calculate the correlation with ChurnLabel\n",
    "correlation = df.select_dtypes(include=np.number).corr()['ChurnLabel'].sort_values(ascending=False)\n",
    "\n",
    "# Plot the correlation\n",
    "plt.figure(figsize=(10,6))\n",
    "correlation.drop('ChurnLabel').plot(kind='bar', color='skyblue')\n",
    "plt.title('correlation with ChurnLabel')\n",
    "plt.ylabel('correlation Coefficient')\n",
    "plt.show"
   ]
  },
  {
   "cell_type": "code",
   "execution_count": 34,
   "metadata": {},
   "outputs": [],
   "source": [
    "# List nested columns\n",
    "nested_columns = [          \n",
    "    'PurchaseHistory',\n",
    "    'SubscriptionDetails', \n",
    "    'ServiceInteractions',       \n",
    "    'PaymentHistory',            \n",
    "    'WebsiteUsage',              \n",
    "    'ClickstreamData',           \n",
    "    'EngagementMetrics',         \n",
    "    'Feedback',                  \n",
    "    'MarketingCommunication'        \n",
    "]"
   ]
  },
  {
   "cell_type": "code",
   "execution_count": 35,
   "metadata": {},
   "outputs": [
    {
     "name": "stdout",
     "output_type": "stream",
     "text": [
      "\n",
      "| MarketingCommunication    | [{'Email_Sent': '2019-10-17', 'Email_Opened': '2022-01-12', 'Email_Clicked': '2022-11-27'}, {'Email_Sent': '2019-10-17', 'Email_Opened': '2022-01-12', 'Email_Clicked': '2022-11-27'}, {'Email_Sent': '2019-10-17', 'Email_Opened': '2022-01-12', 'Email_Clicked': '2022-11-27'}, {'Email_Sent': '2019-10-17', 'Email_Opened': '2022-01-12', 'Email_Clicked': '2022-11-27'}, {'Email_Sent': '2019-10-17', 'Email_Opened': '2022-01-12', 'Email_Clicked': '2022-11-27'}, {'Email_Sent': '2019-10-17', 'Email_Opened': '2022-01-12', 'Email_Clicked': '2022-11-27'}, {'Email_Sent': '2019-10-17', 'Email_Opened': '2022-01-12', 'Email_Clicked': '2022-11-27'}, {'Email_Sent': '2019-10-17', 'Email_Opened': '2022-01-12', 'Email_Clicked': '2022-11-27'}]                                                                                                                                                                                                                                                                                 |\n"
     ]
    }
   ],
   "source": [
    "w1, w2 = 25,1000\n",
    "for col in nested_columns:\n",
    "    row = [col, df[col][0]]\n",
    "print('\\n| {:<{w1}} | {:<{w2}} |'.format(*row, w1=w1, w2=w2))"
   ]
  },
  {
   "cell_type": "code",
   "execution_count": 36,
   "metadata": {},
   "outputs": [],
   "source": [
    "# Apply literal_eval function\n",
    "for columns in nested_columns:\n",
    "    df[columns] = df[columns].apply(literal_eval)"
   ]
  },
  {
   "cell_type": "markdown",
   "metadata": {},
   "source": [
    "### Extract features from nested columns"
   ]
  },
  {
   "cell_type": "code",
   "execution_count": 37,
   "metadata": {},
   "outputs": [],
   "source": [
    "# PurchaseHistory\n",
    "df['PurchaseProduct'] = df['PurchaseHistory'].apply(lambda x : '|'.join([i['Product'] for i in x]))\n",
    "df['PurchaseFrequency'] = df['PurchaseHistory'].apply(lambda x : sum([i['Frequency'] for i in x]))\n",
    "df['PurchaseValue'] = df['PurchaseHistory'].apply(lambda x : sum([i['Value'] for i in x]))\n",
    "\n",
    "# SubscriptionDatails\n",
    "df['SubscriptionPlan'] = df['SubscriptionDetails'].apply(lambda x: x['Plan'] )\n",
    "df['SubscriptionStartDate'] = df['SubscriptionDetails'].apply(lambda x: x['Start_Date'] )\n",
    "df['SubscriptionEndtDate'] = df['SubscriptionDetails'].apply(lambda x: x['End_Date'] )\n",
    "df['SubscriptionDuration'] = (pd.to_datetime(df['SubscriptionEndtDate']) - pd.to_datetime(df['SubscriptionStartDate'])).dt.days\n",
    "\n",
    "# WebsiteUsage\n",
    "df['WebsitePageViews'] = df['WebsiteUsage'].apply(lambda x: x['PageViews'])\n",
    "df['WebsiteTimeSpent'] = df['WebsiteUsage'].apply(lambda x: x['TimeSpent(minutes)'])\n",
    "\n",
    "# EngagementMetrics\n",
    "df['EngagementMetricsLogin'] = df['EngagementMetrics'].apply(lambda x: x['Logins'])\n",
    "df['EngagementMetricsFrequency'] = df['EngagementMetrics'].apply(lambda x: x['Frequency'])\n",
    "\n",
    "# Feedback\n",
    "df['FeedbackRating'] = df['Feedback'].apply(lambda x: x['Rating'])\n",
    "df['FeedbackComment'] = df['Feedback'].apply(lambda x: x['Comment'])\n",
    "\n",
    "# MarketingCommunication\n",
    "df['MarketingCommunicationEmails'] = df['MarketingCommunication'].apply(lambda x: len(x))\n",
    "df['MarketingCommunicationOpenClickDiff'] = df['MarketingCommunication'].apply(lambda x: np.mean([\n",
    "    (pd.to_datetime(i['Email_Clicked']) - pd.to_datetime(i['Email_Opened'])).days for i in x\n",
    "]) )\n",
    "\n",
    "df['MarketingCommunicationSentOpenDiff'] = df['MarketingCommunication'].apply(lambda x: np.mean([\n",
    "    (pd.to_datetime(i['Email_Opened']) - pd.to_datetime(i['Email_Sent'])).days for i in x\n",
    "]))"
   ]
  },
  {
   "cell_type": "code",
   "execution_count": 38,
   "metadata": {},
   "outputs": [
    {
     "name": "stdout",
     "output_type": "stream",
     "text": [
      "Service Interaction Types ['Call', 'Chat', 'Email']\n"
     ]
    }
   ],
   "source": [
    "# Get all unique ServiceInteraction Types\n",
    "Service_Interaction_Types = df['ServiceInteractions'].apply(lambda x: list(set(i['Type'] for i in x)))\n",
    "Service_Interaction_Types = Service_Interaction_Types.to_list()\n",
    "Uniques_Service_Interaction_Type = []\n",
    "\n",
    "for i in Service_Interaction_Types:\n",
    "    Uniques_Service_Interaction_Type.extend(i)\n",
    "Uniques_Service_Interaction_Type = list(set(Uniques_Service_Interaction_Type))\n",
    "print('Service Interaction Types', Uniques_Service_Interaction_Type)"
   ]
  },
  {
   "cell_type": "code",
   "execution_count": 43,
   "metadata": {},
   "outputs": [
    {
     "name": "stdout",
     "output_type": "stream",
     "text": [
      "Payment Methods ['Bank Transfer', 'Credit Card', 'PayPal']\n"
     ]
    }
   ],
   "source": [
    "# Get all Unique Payment Method\n",
    "Payment_History_Method = df['PaymentHistory'].apply(lambda x: list(set(i['Method'] for i in x)))\n",
    "Payment_History_Method = Payment_History_Method.to_list()\n",
    "Unique_Payment_Method = []\n",
    "for method in Payment_History_Method:\n",
    "    Unique_Payment_Method.extend(method)\n",
    "Unique_Payment_Method = list(set(Unique_Payment_Method))\n",
    "print('Payment Methods', Unique_Payment_Method)"
   ]
  },
  {
   "cell_type": "code",
   "execution_count": 44,
   "metadata": {},
   "outputs": [
    {
     "name": "stdout",
     "output_type": "stream",
     "text": [
      "Unique Actions ['Click', 'Search', 'Add to Cart']\n"
     ]
    }
   ],
   "source": [
    "# Get all unique ClickStreamData Action\n",
    "action = df['ClickstreamData'].apply(lambda x: list(set(i['Action'] for i in x)))\n",
    "action = action.to_list()\n",
    "Unique_Action = []\n",
    "for i in action:\n",
    "    Unique_Action.extend(i)\n",
    "Unique_Action = list(set(Unique_Action))\n",
    "print('Unique Actions', Unique_Action)"
   ]
  },
  {
   "cell_type": "markdown",
   "metadata": {},
   "source": [
    "Create new columns"
   ]
  },
  {
   "cell_type": "code",
   "execution_count": 45,
   "metadata": {},
   "outputs": [],
   "source": [
    "# Service Interaction\n",
    "for s in Uniques_Service_Interaction_Type:\n",
    "    df[f'Service_Interactin_{s}'] = df['ServiceInteractions'].apply(lambda x: len([i for i in x if i['Type']==s]))\n",
    "    \n",
    "# Payment History\n",
    " "
   ]
  },
  {
   "cell_type": "code",
   "execution_count": 40,
   "metadata": {},
   "outputs": [
    {
     "data": {
      "text/plain": [
       "array(['Segment B', 'Segment C', 'Segment A'], dtype=object)"
      ]
     },
     "execution_count": 40,
     "metadata": {},
     "output_type": "execute_result"
    }
   ],
   "source": [
    "df['Segment'].unique()"
   ]
  },
  {
   "cell_type": "code",
   "execution_count": 41,
   "metadata": {},
   "outputs": [
    {
     "data": {
      "text/plain": [
       "array(['B', 'C', 'A'], dtype=object)"
      ]
     },
     "execution_count": 41,
     "metadata": {},
     "output_type": "execute_result"
    }
   ],
   "source": [
    "df['Segment'] = df['Segment'].str.replace('Segment','').str.strip()\n",
    "\n",
    "df['Segment'].unique()"
   ]
  },
  {
   "cell_type": "code",
   "execution_count": 42,
   "metadata": {},
   "outputs": [
    {
     "ename": "TypeError",
     "evalue": "unhashable type: 'dict'",
     "output_type": "error",
     "traceback": [
      "\u001b[1;31m---------------------------------------------------------------------------\u001b[0m",
      "\u001b[1;31mTypeError\u001b[0m                                 Traceback (most recent call last)",
      "Cell \u001b[1;32mIn[42], line 1\u001b[0m\n\u001b[1;32m----> 1\u001b[0m \u001b[43mdf\u001b[49m\u001b[43m[\u001b[49m\u001b[38;5;124;43m'\u001b[39;49m\u001b[38;5;124;43mEngagementMetrics\u001b[39;49m\u001b[38;5;124;43m'\u001b[39;49m\u001b[43m]\u001b[49m\u001b[38;5;241;43m.\u001b[39;49m\u001b[43munique\u001b[49m\u001b[43m(\u001b[49m\u001b[43m)\u001b[49m\n",
      "File \u001b[1;32mc:\\Users\\GODMAN\\AppData\\Local\\Programs\\Python\\Python311\\Lib\\site-packages\\pandas\\core\\series.py:2407\u001b[0m, in \u001b[0;36mSeries.unique\u001b[1;34m(self)\u001b[0m\n\u001b[0;32m   2344\u001b[0m \u001b[38;5;28;01mdef\u001b[39;00m \u001b[38;5;21munique\u001b[39m(\u001b[38;5;28mself\u001b[39m) \u001b[38;5;241m-\u001b[39m\u001b[38;5;241m>\u001b[39m ArrayLike:  \u001b[38;5;66;03m# pylint: disable=useless-parent-delegation\u001b[39;00m\n\u001b[0;32m   2345\u001b[0m \u001b[38;5;250m    \u001b[39m\u001b[38;5;124;03m\"\"\"\u001b[39;00m\n\u001b[0;32m   2346\u001b[0m \u001b[38;5;124;03m    Return unique values of Series object.\u001b[39;00m\n\u001b[0;32m   2347\u001b[0m \n\u001b[1;32m   (...)\u001b[0m\n\u001b[0;32m   2405\u001b[0m \u001b[38;5;124;03m    Categories (3, object): ['a' < 'b' < 'c']\u001b[39;00m\n\u001b[0;32m   2406\u001b[0m \u001b[38;5;124;03m    \"\"\"\u001b[39;00m\n\u001b[1;32m-> 2407\u001b[0m     \u001b[38;5;28;01mreturn\u001b[39;00m \u001b[38;5;28;43msuper\u001b[39;49m\u001b[43m(\u001b[49m\u001b[43m)\u001b[49m\u001b[38;5;241;43m.\u001b[39;49m\u001b[43munique\u001b[49m\u001b[43m(\u001b[49m\u001b[43m)\u001b[49m\n",
      "File \u001b[1;32mc:\\Users\\GODMAN\\AppData\\Local\\Programs\\Python\\Python311\\Lib\\site-packages\\pandas\\core\\base.py:1025\u001b[0m, in \u001b[0;36mIndexOpsMixin.unique\u001b[1;34m(self)\u001b[0m\n\u001b[0;32m   1023\u001b[0m     result \u001b[38;5;241m=\u001b[39m values\u001b[38;5;241m.\u001b[39munique()\n\u001b[0;32m   1024\u001b[0m \u001b[38;5;28;01melse\u001b[39;00m:\n\u001b[1;32m-> 1025\u001b[0m     result \u001b[38;5;241m=\u001b[39m \u001b[43malgorithms\u001b[49m\u001b[38;5;241;43m.\u001b[39;49m\u001b[43munique1d\u001b[49m\u001b[43m(\u001b[49m\u001b[43mvalues\u001b[49m\u001b[43m)\u001b[49m\n\u001b[0;32m   1026\u001b[0m \u001b[38;5;28;01mreturn\u001b[39;00m result\n",
      "File \u001b[1;32mc:\\Users\\GODMAN\\AppData\\Local\\Programs\\Python\\Python311\\Lib\\site-packages\\pandas\\core\\algorithms.py:401\u001b[0m, in \u001b[0;36munique\u001b[1;34m(values)\u001b[0m\n\u001b[0;32m    307\u001b[0m \u001b[38;5;28;01mdef\u001b[39;00m \u001b[38;5;21munique\u001b[39m(values):\n\u001b[0;32m    308\u001b[0m \u001b[38;5;250m    \u001b[39m\u001b[38;5;124;03m\"\"\"\u001b[39;00m\n\u001b[0;32m    309\u001b[0m \u001b[38;5;124;03m    Return unique values based on a hash table.\u001b[39;00m\n\u001b[0;32m    310\u001b[0m \n\u001b[1;32m   (...)\u001b[0m\n\u001b[0;32m    399\u001b[0m \u001b[38;5;124;03m    array([('a', 'b'), ('b', 'a'), ('a', 'c')], dtype=object)\u001b[39;00m\n\u001b[0;32m    400\u001b[0m \u001b[38;5;124;03m    \"\"\"\u001b[39;00m\n\u001b[1;32m--> 401\u001b[0m     \u001b[38;5;28;01mreturn\u001b[39;00m \u001b[43munique_with_mask\u001b[49m\u001b[43m(\u001b[49m\u001b[43mvalues\u001b[49m\u001b[43m)\u001b[49m\n",
      "File \u001b[1;32mc:\\Users\\GODMAN\\AppData\\Local\\Programs\\Python\\Python311\\Lib\\site-packages\\pandas\\core\\algorithms.py:440\u001b[0m, in \u001b[0;36munique_with_mask\u001b[1;34m(values, mask)\u001b[0m\n\u001b[0;32m    438\u001b[0m table \u001b[38;5;241m=\u001b[39m hashtable(\u001b[38;5;28mlen\u001b[39m(values))\n\u001b[0;32m    439\u001b[0m \u001b[38;5;28;01mif\u001b[39;00m mask \u001b[38;5;129;01mis\u001b[39;00m \u001b[38;5;28;01mNone\u001b[39;00m:\n\u001b[1;32m--> 440\u001b[0m     uniques \u001b[38;5;241m=\u001b[39m \u001b[43mtable\u001b[49m\u001b[38;5;241;43m.\u001b[39;49m\u001b[43munique\u001b[49m\u001b[43m(\u001b[49m\u001b[43mvalues\u001b[49m\u001b[43m)\u001b[49m\n\u001b[0;32m    441\u001b[0m     uniques \u001b[38;5;241m=\u001b[39m _reconstruct_data(uniques, original\u001b[38;5;241m.\u001b[39mdtype, original)\n\u001b[0;32m    442\u001b[0m     \u001b[38;5;28;01mreturn\u001b[39;00m uniques\n",
      "File \u001b[1;32mpandas\\\\_libs\\\\hashtable_class_helper.pxi:7248\u001b[0m, in \u001b[0;36mpandas._libs.hashtable.PyObjectHashTable.unique\u001b[1;34m()\u001b[0m\n",
      "File \u001b[1;32mpandas\\\\_libs\\\\hashtable_class_helper.pxi:7195\u001b[0m, in \u001b[0;36mpandas._libs.hashtable.PyObjectHashTable._unique\u001b[1;34m()\u001b[0m\n",
      "\u001b[1;31mTypeError\u001b[0m: unhashable type: 'dict'"
     ]
    }
   ],
   "source": [
    "df['EngagementMetrics'].unique()"
   ]
  },
  {
   "cell_type": "code",
   "execution_count": 18,
   "metadata": {},
   "outputs": [
    {
     "data": {
      "text/plain": [
       "array([3, 6, 1, 2, 5, 0, 8, 7, 4, 9])"
      ]
     },
     "execution_count": 18,
     "metadata": {},
     "output_type": "execute_result"
    }
   ],
   "source": [
    "df['NPS'].unique()"
   ]
  },
  {
   "cell_type": "code",
   "execution_count": null,
   "metadata": {},
   "outputs": [],
   "source": []
  }
 ],
 "metadata": {
  "kernelspec": {
   "display_name": "Python 3",
   "language": "python",
   "name": "python3"
  },
  "language_info": {
   "codemirror_mode": {
    "name": "ipython",
    "version": 3
   },
   "file_extension": ".py",
   "mimetype": "text/x-python",
   "name": "python",
   "nbconvert_exporter": "python",
   "pygments_lexer": "ipython3",
   "version": "3.11.9"
  }
 },
 "nbformat": 4,
 "nbformat_minor": 2
}
